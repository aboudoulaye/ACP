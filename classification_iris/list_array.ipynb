{
 "cells": [
  {
   "cell_type": "code",
   "execution_count": 1,
   "id": "cc04da64",
   "metadata": {},
   "outputs": [],
   "source": [
    "import numpy as np\n",
    "import pandas as pd\n",
    "import matplotlib.pyplot as plt\n"
   ]
  },
  {
   "cell_type": "code",
   "execution_count": 2,
   "id": "7020b2db",
   "metadata": {},
   "outputs": [],
   "source": [
    "df = pd.read_csv(\"data_iris.csv\") "
   ]
  },
  {
   "cell_type": "code",
   "execution_count": 3,
   "id": "8be19d77",
   "metadata": {},
   "outputs": [
    {
     "data": {
      "text/html": [
       "<div>\n",
       "<style scoped>\n",
       "    .dataframe tbody tr th:only-of-type {\n",
       "        vertical-align: middle;\n",
       "    }\n",
       "\n",
       "    .dataframe tbody tr th {\n",
       "        vertical-align: top;\n",
       "    }\n",
       "\n",
       "    .dataframe thead th {\n",
       "        text-align: right;\n",
       "    }\n",
       "</style>\n",
       "<table border=\"1\" class=\"dataframe\">\n",
       "  <thead>\n",
       "    <tr style=\"text-align: right;\">\n",
       "      <th></th>\n",
       "      <th>sepal length (cm)</th>\n",
       "      <th>sepal width (cm)</th>\n",
       "      <th>petal length (cm)</th>\n",
       "      <th>petal width (cm)</th>\n",
       "      <th>species</th>\n",
       "    </tr>\n",
       "  </thead>\n",
       "  <tbody>\n",
       "    <tr>\n",
       "      <th>0</th>\n",
       "      <td>5.1</td>\n",
       "      <td>3.5</td>\n",
       "      <td>1.4</td>\n",
       "      <td>0.2</td>\n",
       "      <td>setosa</td>\n",
       "    </tr>\n",
       "    <tr>\n",
       "      <th>1</th>\n",
       "      <td>4.9</td>\n",
       "      <td>3.0</td>\n",
       "      <td>1.4</td>\n",
       "      <td>0.2</td>\n",
       "      <td>setosa</td>\n",
       "    </tr>\n",
       "    <tr>\n",
       "      <th>2</th>\n",
       "      <td>4.7</td>\n",
       "      <td>3.2</td>\n",
       "      <td>1.3</td>\n",
       "      <td>0.2</td>\n",
       "      <td>setosa</td>\n",
       "    </tr>\n",
       "    <tr>\n",
       "      <th>3</th>\n",
       "      <td>4.6</td>\n",
       "      <td>3.1</td>\n",
       "      <td>1.5</td>\n",
       "      <td>0.2</td>\n",
       "      <td>setosa</td>\n",
       "    </tr>\n",
       "    <tr>\n",
       "      <th>4</th>\n",
       "      <td>5.0</td>\n",
       "      <td>3.6</td>\n",
       "      <td>1.4</td>\n",
       "      <td>0.2</td>\n",
       "      <td>setosa</td>\n",
       "    </tr>\n",
       "  </tbody>\n",
       "</table>\n",
       "</div>"
      ],
      "text/plain": [
       "   sepal length (cm)  sepal width (cm)  petal length (cm)  petal width (cm)  \\\n",
       "0                5.1               3.5                1.4               0.2   \n",
       "1                4.9               3.0                1.4               0.2   \n",
       "2                4.7               3.2                1.3               0.2   \n",
       "3                4.6               3.1                1.5               0.2   \n",
       "4                5.0               3.6                1.4               0.2   \n",
       "\n",
       "  species  \n",
       "0  setosa  \n",
       "1  setosa  \n",
       "2  setosa  \n",
       "3  setosa  \n",
       "4  setosa  "
      ]
     },
     "execution_count": 3,
     "metadata": {},
     "output_type": "execute_result"
    }
   ],
   "source": [
    "df.head()"
   ]
  },
  {
   "cell_type": "code",
   "execution_count": 3,
   "id": "b9d0c819",
   "metadata": {},
   "outputs": [],
   "source": [
    "#df['target'] = le.fit_transform(df['species'] )"
   ]
  },
  {
   "cell_type": "code",
   "execution_count": 5,
   "id": "45c515c2",
   "metadata": {},
   "outputs": [],
   "source": [
    "# Séparation X / y\n",
    "X = df.drop(\"species\", axis=1)\n",
    "y = df[\"species\"]"
   ]
  },
  {
   "cell_type": "code",
   "execution_count": 6,
   "id": "53742fe6",
   "metadata": {},
   "outputs": [],
   "source": [
    "\n",
    "from sklearn.preprocessing import LabelEncoder\n",
    "# Encodage de la cible\n",
    "le = LabelEncoder()\n",
    "y_encoded = le.fit_transform(y)\n",
    "class_names = le.classes_"
   ]
  },
  {
   "cell_type": "code",
   "execution_count": 8,
   "id": "64728a51",
   "metadata": {},
   "outputs": [
    {
     "data": {
      "text/plain": [
       "array(['setosa', 'versicolor', 'virginica'], dtype=object)"
      ]
     },
     "execution_count": 8,
     "metadata": {},
     "output_type": "execute_result"
    }
   ],
   "source": [
    "class_names"
   ]
  },
  {
   "cell_type": "code",
   "execution_count": 9,
   "id": "a5e8a94d",
   "metadata": {},
   "outputs": [
    {
     "name": "stdout",
     "output_type": "stream",
     "text": [
      "{0: 'setosa', 1: 'versicolor', 2: 'virginica'}\n"
     ]
    }
   ],
   "source": [
    "# Transformation en dictionnaire\n",
    "label_names = {i: name for i, name in enumerate(class_names)}\n",
    "\n",
    "print(label_names)"
   ]
  },
  {
   "cell_type": "code",
   "execution_count": 8,
   "id": "f8ff8e1d",
   "metadata": {},
   "outputs": [],
   "source": [
    "from sklearn.model_selection import train_test_split\n",
    "# Séparation Train/Test\n",
    "X_train, X_test, y_train, y_test = train_test_split(X, y_encoded, test_size=0.3, random_state=42, stratify=y_encoded)"
   ]
  },
  {
   "cell_type": "code",
   "execution_count": 9,
   "id": "af0e61a3",
   "metadata": {},
   "outputs": [],
   "source": [
    "from sklearn.preprocessing import StandardScaler\n",
    "# Standardisation\n",
    "scaler = StandardScaler()\n",
    "X_train_scaled = scaler.fit_transform(X_train)\n",
    "X_test_scaled = scaler.transform(X_test)"
   ]
  },
  {
   "cell_type": "code",
   "execution_count": 10,
   "id": "d9c63537",
   "metadata": {},
   "outputs": [],
   "source": [
    "from sklearn.linear_model import LogisticRegression\n",
    "from sklearn.ensemble import RandomForestClassifier\n",
    "from sklearn.svm import SVC\n",
    "# Modèles et grilles de paramètres\n",
    "models = {\n",
    "    'LogReg': LogisticRegression(max_iter=1000),\n",
    "    'RandomForest': RandomForestClassifier(random_state=42),\n",
    "    'SVM': SVC(probability=True)\n",
    "}"
   ]
  },
  {
   "cell_type": "code",
   "execution_count": 11,
   "id": "b86fa4d6",
   "metadata": {},
   "outputs": [
    {
     "name": "stdout",
     "output_type": "stream",
     "text": [
      "\n",
      " LogReg - Classification Report :\n",
      "\n",
      "              precision    recall  f1-score   support\n",
      "\n",
      "      setosa       1.00      1.00      1.00        15\n",
      "  versicolor       0.82      0.93      0.87        15\n",
      "   virginica       0.92      0.80      0.86        15\n",
      "\n",
      "    accuracy                           0.91        45\n",
      "   macro avg       0.92      0.91      0.91        45\n",
      "weighted avg       0.92      0.91      0.91        45\n",
      "\n",
      "\n",
      " RandomForest - Classification Report :\n",
      "\n",
      "              precision    recall  f1-score   support\n",
      "\n",
      "      setosa       1.00      1.00      1.00        15\n",
      "  versicolor       0.78      0.93      0.85        15\n",
      "   virginica       0.92      0.73      0.81        15\n",
      "\n",
      "    accuracy                           0.89        45\n",
      "   macro avg       0.90      0.89      0.89        45\n",
      "weighted avg       0.90      0.89      0.89        45\n",
      "\n",
      "\n",
      " SVM - Classification Report :\n",
      "\n",
      "              precision    recall  f1-score   support\n",
      "\n",
      "      setosa       1.00      1.00      1.00        15\n",
      "  versicolor       0.88      0.93      0.90        15\n",
      "   virginica       0.93      0.87      0.90        15\n",
      "\n",
      "    accuracy                           0.93        45\n",
      "   macro avg       0.93      0.93      0.93        45\n",
      "weighted avg       0.93      0.93      0.93        45\n",
      "\n"
     ]
    }
   ],
   "source": [
    "from sklearn.metrics import classification_report\n",
    "#  Évaluation\n",
    "for name, model in models.items():\n",
    "    model.fit(X_train_scaled,y_train)\n",
    "    y_pred = model.predict(X_test_scaled)\n",
    "    print(f\"\\n {name} - Classification Report :\\n\")\n",
    "    print(classification_report(y_test, y_pred, target_names=class_names))"
   ]
  },
  {
   "cell_type": "code",
   "execution_count": 12,
   "id": "a92bb25f",
   "metadata": {},
   "outputs": [
    {
     "data": {
      "image/png": "[encoded data removed]",
      "text/plain": [
       "<Figure size 800x600 with 1 Axes>"
      ]
     },
     "metadata": {},
     "output_type": "display_data"
    }
   ],
   "source": [
    "import numpy as np\n",
    "import matplotlib.pyplot as plt\n",
    "from sklearn.metrics import roc_curve, auc\n",
    "from sklearn.preprocessing import label_binarize\n",
    "\n",
    "# Binarisation des classes pour ROC multiclasse\n",
    "y_test_bin = label_binarize(y_test, classes=np.unique(y_test))\n",
    "n_classes = y_test_bin.shape[1]\n",
    "\n",
    "\n",
    "# Prédictions de probabilités\n",
    "y_prob = model.predict_proba(X_test_scaled) \n",
    "\n",
    "# Initialisation des courbes ROC par classe\n",
    "fpr = dict()\n",
    "tpr = dict()\n",
    "roc_auc = dict()\n",
    "\n",
    "# Courbe ROC pour chaque classe (1 contre tous)\n",
    "for i in range(n_classes):\n",
    "    fpr[i], tpr[i], _ = roc_curve(y_test_bin[:, i], y_prob[:, i])\n",
    "    roc_auc[i] = auc(fpr[i], tpr[i])\n",
    "\n",
    "# Calcul de la courbe ROC macro (moyenne)\n",
    "all_fpr = np.unique(np.concatenate([fpr[i] for i in range(n_classes)]))\n",
    "mean_tpr = np.zeros_like(all_fpr)\n",
    "\n",
    "for i in range(n_classes):\n",
    "    mean_tpr += np.interp(all_fpr, fpr[i], tpr[i])\n",
    "mean_tpr /= n_classes\n",
    "roc_auc_macro = auc(all_fpr, mean_tpr)\n",
    "\n",
    "# Tracé\n",
    "fig, ax1 = plt.subplots(figsize=(8, 6))\n",
    "\n",
    "# Tracer chaque courbe ROC\n",
    "for i in range(n_classes):\n",
    "    ax1.plot(fpr[i], tpr[i],\n",
    "             label=f\"{label_names.get(i, f'Classe {i}')} (AUC = {roc_auc[i]:.2f})\")\n",
    "\n",
    "\n",
    "\n",
    "# Courbe de base (modèle aléatoire)\n",
    "ax1.plot([0, 1], [0, 1], 'k--')\n",
    "\n",
    "# Mise en forme\n",
    "ax1.set_xlabel('Taux de Faux Positifs (FPR)')\n",
    "ax1.set_ylabel('Taux de Vrais Positifs (TPR)')\n",
    "ax1.set_title('Courbes ROC par espèce (Iris)')\n",
    "ax1.legend(loc='lower right')\n",
    "ax1.grid(True)\n",
    "plt.tight_layout()\n",
    "plt.show()\n",
    "\n"
   ]
  },
  {
   "cell_type": "markdown",
   "id": "e8aa6d2e",
   "metadata": {},
   "source": []
  },
  {
   "cell_type": "code",
   "execution_count": 13,
   "id": "987af572",
   "metadata": {},
   "outputs": [],
   "source": [
    "from sklearn.feature_selection import SelectKBest, f_classif\n",
    "# Sélection de caractéristiques\n",
    "selector = SelectKBest(score_func=f_classif, k=3)\n",
    "X_train_sel = selector.fit_transform(X_train_scaled, y_train)\n",
    "X_test_sel = selector.transform(X_test_scaled)"
   ]
  },
  {
   "cell_type": "code",
   "execution_count": 14,
   "id": "80d0c673",
   "metadata": {},
   "outputs": [
    {
     "name": "stdout",
     "output_type": "stream",
     "text": [
      "Colonnes sélectionnées : ['sepal length (cm)', 'petal length (cm)', 'petal width (cm)']\n"
     ]
    }
   ],
   "source": [
    "# Pour récupérer les noms des colonnes sélectionnées\n",
    "mask = selector.get_support()  # tableau booléen indiquant les colonnes sélectionnées\n",
    "selected_features = X.columns[mask]\n",
    "\n",
    "print(\"Colonnes sélectionnées :\", list(selected_features))"
   ]
  },
  {
   "cell_type": "code",
   "execution_count": 15,
   "id": "0d7b07de",
   "metadata": {},
   "outputs": [],
   "source": [
    "# Modèles et grilles de paramètres\n",
    "models = {\n",
    "    'LogReg': LogisticRegression(max_iter=1000),\n",
    "    'RandomForest': RandomForestClassifier(random_state=42),\n",
    "    'SVM': SVC(probability=True)\n",
    "}\n",
    "\n",
    "param_grids = {\n",
    "    'LogReg': {\n",
    "        'C': [0.01, 0.1, 1, 10],\n",
    "        'penalty': ['l2'],\n",
    "        'solver': ['liblinear']\n",
    "    },\n",
    "    'RandomForest': {\n",
    "        'n_estimators': [50, 100],\n",
    "        'max_depth': [None, 5, 10]\n",
    "    },\n",
    "    'SVM': {\n",
    "        'C': [0.1, 1, 10],\n",
    "        'kernel': ['linear', 'rbf']\n",
    "    }\n",
    "}\n",
    "\n",
    "\n"
   ]
  },
  {
   "cell_type": "code",
   "execution_count": 16,
   "id": "1dedf42c",
   "metadata": {},
   "outputs": [
    {
     "name": "stdout",
     "output_type": "stream",
     "text": [
      "\n",
      " Recherche pour LogReg\n",
      "Meilleurs paramètres : {'C': 10, 'penalty': 'l2', 'solver': 'liblinear'}\n",
      "\n",
      " Recherche pour RandomForest\n",
      "Meilleurs paramètres : {'max_depth': 5, 'n_estimators': 50}\n",
      "\n",
      " Recherche pour SVM\n",
      "Meilleurs paramètres : {'C': 0.1, 'kernel': 'linear'}\n",
      "\n",
      " LogReg - Classification Report :\n",
      "\n",
      "              precision    recall  f1-score   support\n",
      "\n",
      "      setosa       1.00      1.00      1.00        15\n",
      "  versicolor       0.82      0.93      0.87        15\n",
      "   virginica       0.92      0.80      0.86        15\n",
      "\n",
      "    accuracy                           0.91        45\n",
      "   macro avg       0.92      0.91      0.91        45\n",
      "weighted avg       0.92      0.91      0.91        45\n",
      "\n",
      "\n",
      " RandomForest - Classification Report :\n",
      "\n",
      "              precision    recall  f1-score   support\n",
      "\n",
      "      setosa       1.00      1.00      1.00        15\n",
      "  versicolor       0.78      0.93      0.85        15\n",
      "   virginica       0.92      0.73      0.81        15\n",
      "\n",
      "    accuracy                           0.89        45\n",
      "   macro avg       0.90      0.89      0.89        45\n",
      "weighted avg       0.90      0.89      0.89        45\n",
      "\n",
      "\n",
      " SVM - Classification Report :\n",
      "\n",
      "              precision    recall  f1-score   support\n",
      "\n",
      "      setosa       1.00      1.00      1.00        15\n",
      "  versicolor       0.82      0.93      0.87        15\n",
      "   virginica       0.92      0.80      0.86        15\n",
      "\n",
      "    accuracy                           0.91        45\n",
      "   macro avg       0.92      0.91      0.91        45\n",
      "weighted avg       0.92      0.91      0.91        45\n",
      "\n"
     ]
    }
   ],
   "source": [
    "from sklearn.model_selection import GridSearchCV\n",
    "# Entraînement avec GridSearchCV\n",
    "best_models = {}\n",
    "\n",
    "for name, model in models.items():\n",
    "    print(f\"\\n Recherche pour {name}\")\n",
    "    grid = GridSearchCV(model, param_grids[name], cv=5, scoring='accuracy', n_jobs=-1)\n",
    "    grid.fit(X_train_sel, y_train)\n",
    "    best_models[name] = grid.best_estimator_\n",
    "    print(\"Meilleurs paramètres :\", grid.best_params_)\n",
    "\n",
    "#  Évaluation\n",
    "for name, model in best_models.items():\n",
    "    y_pred = model.predict(X_test_sel)\n",
    "    print(f\"\\n {name} - Classification Report :\\n\")\n",
    "    print(classification_report(y_test, y_pred, target_names=class_names))\n",
    "\n"
   ]
  }
 ],
 "metadata": {
  "kernelspec": {
   "display_name": "App_these",
   "language": "python",
   "name": "python3"
  },
  "language_info": {
   "codemirror_mode": {
    "name": "ipython",
    "version": 3
   },
   "file_extension": ".py",
   "mimetype": "text/x-python",
   "name": "python",
   "nbconvert_exporter": "python",
   "pygments_lexer": "ipython3",
   "version": "3.13.3"
  }
 },
 "nbformat": 4,
 "nbformat_minor": 5
}
